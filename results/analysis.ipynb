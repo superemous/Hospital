{
 "cells": [
  {
   "cell_type": "code",
   "execution_count": 1,
   "id": "2b2a3220",
   "metadata": {},
   "outputs": [],
   "source": [
    "import pandas as pd\n",
    "import matplotlib.pyplot as plt\n",
    "import re\n",
    "from collections import Counter\n",
    "from ast import literal_eval"
   ]
  },
  {
   "cell_type": "code",
   "execution_count": 2,
   "id": "5cff9c3b",
   "metadata": {},
   "outputs": [
    {
     "name": "stdout",
     "output_type": "stream",
     "text": [
      "Requirement already satisfied: psycopg2 in c:\\users\\91895\\anaconda3\\lib\\site-packages (2.9.10)\n",
      "Note: you may need to restart the kernel to use updated packages.\n"
     ]
    }
   ],
   "source": [
    "pip install psycopg2"
   ]
  },
  {
   "cell_type": "code",
   "execution_count": 4,
   "id": "3353f72a",
   "metadata": {},
   "outputs": [],
   "source": [
    "import psycopg2"
   ]
  },
  {
   "cell_type": "code",
   "execution_count": 5,
   "id": "a49c7597",
   "metadata": {},
   "outputs": [],
   "source": [
    "# Establish connection\n",
    "conn = psycopg2.connect(\n",
    "    host=\"localhost\",\n",
    "    database=\"world\",\n",
    "    user=\"postgres\",\n",
    "    password=\"123456\"\n",
    ")"
   ]
  },
  {
   "cell_type": "code",
   "execution_count": 6,
   "id": "7ccdaf10",
   "metadata": {},
   "outputs": [],
   "source": [
    "# Create a cursor\n",
    "cur = conn.cursor()"
   ]
  },
  {
   "cell_type": "code",
   "execution_count": 25,
   "id": "3960e575",
   "metadata": {},
   "outputs": [],
   "source": [
    "# Execute query\n",
    "cur.execute(\"SELECT * FROM hospital_data\")"
   ]
  },
  {
   "cell_type": "code",
   "execution_count": 26,
   "id": "3f4af93e",
   "metadata": {},
   "outputs": [],
   "source": [
    "# Fetch all rows\n",
    "rows = cur.fetchall()"
   ]
  },
  {
   "cell_type": "code",
   "execution_count": 27,
   "id": "9b2f5a31",
   "metadata": {},
   "outputs": [],
   "source": [
    "# Get column names\n",
    "column_names = [desc[0] for desc in cur.description]"
   ]
  },
  {
   "cell_type": "code",
   "execution_count": 28,
   "id": "17ee2f46",
   "metadata": {},
   "outputs": [],
   "source": [
    "# Create DataFrame\n",
    "df = pd.DataFrame(rows, columns=column_names)"
   ]
  },
  {
   "cell_type": "code",
   "execution_count": 29,
   "id": "506bc03d",
   "metadata": {},
   "outputs": [],
   "source": [
    "# df = pd.read_csv(\"data-17.csv\")"
   ]
  },
  {
   "cell_type": "code",
   "execution_count": 30,
   "id": "d0261b74",
   "metadata": {},
   "outputs": [
    {
     "data": {
      "text/html": [
       "<div>\n",
       "<style scoped>\n",
       "    .dataframe tbody tr th:only-of-type {\n",
       "        vertical-align: middle;\n",
       "    }\n",
       "\n",
       "    .dataframe tbody tr th {\n",
       "        vertical-align: top;\n",
       "    }\n",
       "\n",
       "    .dataframe thead th {\n",
       "        text-align: right;\n",
       "    }\n",
       "</style>\n",
       "<table border=\"1\" class=\"dataframe\">\n",
       "  <thead>\n",
       "    <tr style=\"text-align: right;\">\n",
       "      <th></th>\n",
       "      <th>Date</th>\n",
       "      <th>aadhar_no</th>\n",
       "      <th>prescription</th>\n",
       "    </tr>\n",
       "  </thead>\n",
       "  <tbody>\n",
       "    <tr>\n",
       "      <th>0</th>\n",
       "      <td>2025-04-06</td>\n",
       "      <td>123456789</td>\n",
       "      <td>[asd, qwer]</td>\n",
       "    </tr>\n",
       "    <tr>\n",
       "      <th>1</th>\n",
       "      <td>2025-04-06</td>\n",
       "      <td>98765432110</td>\n",
       "      <td>[adf]</td>\n",
       "    </tr>\n",
       "    <tr>\n",
       "      <th>2</th>\n",
       "      <td>2025-04-06</td>\n",
       "      <td>1234567892</td>\n",
       "      <td>[qer, ert]</td>\n",
       "    </tr>\n",
       "    <tr>\n",
       "      <th>3</th>\n",
       "      <td>2025-04-09</td>\n",
       "      <td>98765432110</td>\n",
       "      <td>[paracetamol, cetaphil]</td>\n",
       "    </tr>\n",
       "    <tr>\n",
       "      <th>4</th>\n",
       "      <td>2025-04-09</td>\n",
       "      <td>98765432110</td>\n",
       "      <td>[mnbvc, ertrey]</td>\n",
       "    </tr>\n",
       "  </tbody>\n",
       "</table>\n",
       "</div>"
      ],
      "text/plain": [
       "         Date    aadhar_no             prescription\n",
       "0  2025-04-06    123456789              [asd, qwer]\n",
       "1  2025-04-06  98765432110                    [adf]\n",
       "2  2025-04-06   1234567892               [qer, ert]\n",
       "3  2025-04-09  98765432110  [paracetamol, cetaphil]\n",
       "4  2025-04-09  98765432110          [mnbvc, ertrey]"
      ]
     },
     "execution_count": 30,
     "metadata": {},
     "output_type": "execute_result"
    }
   ],
   "source": [
    "df.head()"
   ]
  },
  {
   "cell_type": "code",
   "execution_count": 31,
   "id": "2b0e4d3f",
   "metadata": {},
   "outputs": [
    {
     "data": {
      "text/plain": [
       "0                     [asd, qwer]\n",
       "1                           [adf]\n",
       "2                      [qer, ert]\n",
       "3         [paracetamol, cetaphil]\n",
       "4                 [mnbvc, ertrey]\n",
       "5     [choti advance, paper boat]\n",
       "6       [alovera gel, kesh kanti]\n",
       "7                     [adf, qwer]\n",
       "8                           [adf]\n",
       "9                     [qwer, adf]\n",
       "10        [paracetamol, cetaphil]\n",
       "11                [mnbvc, ertrey]\n",
       "12        [cetaphil, paracetamol]\n",
       "13                    [qwer, adf]\n",
       "Name: prescription, dtype: object"
      ]
     },
     "execution_count": 31,
     "metadata": {},
     "output_type": "execute_result"
    }
   ],
   "source": [
    "df.prescription"
   ]
  },
  {
   "cell_type": "code",
   "execution_count": 32,
   "id": "9f928a20",
   "metadata": {},
   "outputs": [],
   "source": [
    "# Custom function to parse the prescription strings\n",
    "import re\n",
    "from typing import List, Union\n",
    "\n",
    "def parse_prescription(prescription_data: Union[str, List[str]]) -> List[str]:\n",
    "    \"\"\"\n",
    "    Parse prescription data from PostgreSQL into a clean list of items.\n",
    "    Handles both string representations and direct array returns from psycopg2.\n",
    "    \n",
    "    Args:\n",
    "        prescription_data: Could be either:\n",
    "            - String representation from CSV (e.g., \"{item1,item2}\")\n",
    "            - Direct list return from psycopg2 array_agg or array type\n",
    "    \n",
    "    Returns:\n",
    "        List of cleaned prescription items\n",
    "    \"\"\"\n",
    "    # If it's already a list (direct from psycopg2 array), just clean the items\n",
    "    if isinstance(prescription_data, list):\n",
    "        return [item.strip('\"\\'') for item in prescription_data]\n",
    "    \n",
    "    # If it's a string representation (from CSV or text representation)\n",
    "    if not isinstance(prescription_data, str):\n",
    "        return []\n",
    "    \n",
    "    # Clean the string and handle different formats\n",
    "    pres_str = prescription_data.strip('{}')\n",
    "    \n",
    "    # Handle cases where items might be quoted or contain special characters\n",
    "    if '\"' in pres_str or \"'\" in pres_str:\n",
    "        # Handle quoted items with possible commas inside\n",
    "        items = re.findall(r'\"(?:[^\"\\\\]|\\\\.)*\"|\\'[^\\']*\\'|[^,\\s]+', pres_str)\n",
    "    else:\n",
    "        # Simple comma split when no quotes present\n",
    "        items = pres_str.split(',')\n",
    "    \n",
    "    # Clean each item and filter empty strings\n",
    "    cleaned_items = [item.strip(' \"\\'') for item in items if item.strip()]\n",
    "    \n",
    "    return cleaned_items"
   ]
  },
  {
   "cell_type": "code",
   "execution_count": 33,
   "id": "c4dc945b",
   "metadata": {},
   "outputs": [],
   "source": [
    "# Apply the parsing function\n",
    "df['prescription'] = df['prescription'].apply(parse_prescription)"
   ]
  },
  {
   "cell_type": "code",
   "execution_count": 34,
   "id": "9c8aa900",
   "metadata": {},
   "outputs": [],
   "source": [
    "# Explode the prescription lists into individual rows\n",
    "exploded_df = df.explode('prescription')"
   ]
  },
  {
   "cell_type": "code",
   "execution_count": 35,
   "id": "177c072a",
   "metadata": {},
   "outputs": [],
   "source": [
    "# Count prescription frequencies\n",
    "prescription_counts = exploded_df['prescription'].value_counts()"
   ]
  },
  {
   "cell_type": "code",
   "execution_count": 41,
   "id": "6d58b16a",
   "metadata": {},
   "outputs": [
    {
     "data": {
      "image/png": "[encoded data removed]",
      "text/plain": [
       "<Figure size 1500x600 with 1 Axes>"
      ]
     },
     "metadata": {},
     "output_type": "display_data"
    }
   ],
   "source": [
    "# Create the histogram\n",
    "#eda\n",
    "plt.figure(figsize=(15, 6))\n",
    "bars = plt.bar(prescription_counts.index, prescription_counts.values, color='skyblue')"
   ]
  },
  {
   "cell_type": "code",
   "execution_count": 37,
   "id": "3f0f7937",
   "metadata": {},
   "outputs": [
    {
     "data": {
      "text/html": [
       "<div>\n",
       "<style scoped>\n",
       "    .dataframe tbody tr th:only-of-type {\n",
       "        vertical-align: middle;\n",
       "    }\n",
       "\n",
       "    .dataframe tbody tr th {\n",
       "        vertical-align: top;\n",
       "    }\n",
       "\n",
       "    .dataframe thead th {\n",
       "        text-align: right;\n",
       "    }\n",
       "</style>\n",
       "<table border=\"1\" class=\"dataframe\">\n",
       "  <thead>\n",
       "    <tr style=\"text-align: right;\">\n",
       "      <th></th>\n",
       "      <th>Date</th>\n",
       "      <th>aadhar_no</th>\n",
       "      <th>prescription</th>\n",
       "    </tr>\n",
       "  </thead>\n",
       "  <tbody>\n",
       "    <tr>\n",
       "      <th>0</th>\n",
       "      <td>2025-04-06</td>\n",
       "      <td>123456789</td>\n",
       "      <td>asd</td>\n",
       "    </tr>\n",
       "    <tr>\n",
       "      <th>0</th>\n",
       "      <td>2025-04-06</td>\n",
       "      <td>123456789</td>\n",
       "      <td>qwer</td>\n",
       "    </tr>\n",
       "    <tr>\n",
       "      <th>1</th>\n",
       "      <td>2025-04-06</td>\n",
       "      <td>98765432110</td>\n",
       "      <td>adf</td>\n",
       "    </tr>\n",
       "    <tr>\n",
       "      <th>2</th>\n",
       "      <td>2025-04-06</td>\n",
       "      <td>1234567892</td>\n",
       "      <td>qer</td>\n",
       "    </tr>\n",
       "    <tr>\n",
       "      <th>2</th>\n",
       "      <td>2025-04-06</td>\n",
       "      <td>1234567892</td>\n",
       "      <td>ert</td>\n",
       "    </tr>\n",
       "  </tbody>\n",
       "</table>\n",
       "</div>"
      ],
      "text/plain": [
       "         Date    aadhar_no prescription\n",
       "0  2025-04-06    123456789          asd\n",
       "0  2025-04-06    123456789         qwer\n",
       "1  2025-04-06  98765432110          adf\n",
       "2  2025-04-06   1234567892          qer\n",
       "2  2025-04-06   1234567892          ert"
      ]
     },
     "execution_count": 37,
     "metadata": {},
     "output_type": "execute_result"
    }
   ],
   "source": [
    "exploded_df.head()"
   ]
  },
  {
   "cell_type": "code",
   "execution_count": 40,
   "id": "d2f66379",
   "metadata": {},
   "outputs": [
    {
     "data": {
      "image/png": "[encoded data removed]",
      "text/plain": [
       "<Figure size 640x480 with 1 Axes>"
      ]
     },
     "metadata": {},
     "output_type": "display_data"
    }
   ],
   "source": [
    "#eda\n",
    "plt.plot(exploded_df['Date'],exploded_df['prescription'])\n",
    "plt.grid(True)\n",
    "plt.show()"
   ]
  },
  {
   "cell_type": "code",
   "execution_count": 39,
   "id": "e451d964",
   "metadata": {},
   "outputs": [
    {
     "name": "stderr",
     "output_type": "stream",
     "text": [
      "[NbConvertApp] Converting notebook analysis.ipynb to html\n",
      "[NbConvertApp] Writing 664570 bytes to analysis.html\n"
     ]
    }
   ],
   "source": [
    "!jupyter nbconvert --to html analysis.ipynb"
   ]
  },
  {
   "cell_type": "code",
   "execution_count": null,
   "id": "ca656f3a",
   "metadata": {},
   "outputs": [],
   "source": []
  }
 ],
 "metadata": {
  "kernelspec": {
   "display_name": "Python 3 (ipykernel)",
   "language": "python",
   "name": "python3"
  },
  "language_info": {
   "codemirror_mode": {
    "name": "ipython",
    "version": 3
   },
   "file_extension": ".py",
   "mimetype": "text/x-python",
   "name": "python",
   "nbconvert_exporter": "python",
   "pygments_lexer": "ipython3",
   "version": "3.9.13"
  }
 },
 "nbformat": 4,
 "nbformat_minor": 5
}
